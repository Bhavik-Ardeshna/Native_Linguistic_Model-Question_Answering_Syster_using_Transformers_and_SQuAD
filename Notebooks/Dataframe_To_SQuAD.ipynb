{
 "cells": [
  {
   "cell_type": "markdown",
   "id": "99c7580a",
   "metadata": {},
   "source": [
    "# Use this notebook for converting Dataframe of any other format to SQuAD v1.1"
   ]
  },
  {
   "cell_type": "code",
   "execution_count": 2,
   "id": "5ae1b8e2",
   "metadata": {},
   "outputs": [],
   "source": [
    "import pandas as pd\n",
    "import numpy as np\n",
    "import json\n",
    "from typing import List, Dict, Optional\n",
    "from pathlib import Path\n",
    "import matplotlib.pyplot as plt\n",
    "%matplotlib inline"
   ]
  },
  {
   "cell_type": "markdown",
   "id": "429bf06e",
   "metadata": {},
   "source": [
    "## Use to separate <i>Hindi</i> and <i>Tamil</i> dataset for csv"
   ]
  },
  {
   "cell_type": "code",
   "execution_count": null,
   "id": "377db42f",
   "metadata": {},
   "outputs": [],
   "source": [
    "######################################################\n",
    "# Enter path of csv file with Hindi and Tamil Data mix\n",
    "######################################################\n",
    "separate_dataset_file_path = \"\"\n",
    "######################################################\n",
    "\n",
    "dataset = pd.read_csv(separate_dataset_file_path)\n",
    "\n",
    "######################################################\n",
    "dataset_hindi = kaggle_dataset[dataset['language']=='hindi']\n",
    "dataset_tamil = kaggle_dataset[dataset['language']=='tamil']\n",
    "######################################################"
   ]
  },
  {
   "cell_type": "markdown",
   "id": "066a1698",
   "metadata": {},
   "source": [
    "## Drop Language Column And Reset Index For Hindi"
   ]
  },
  {
   "cell_type": "code",
   "execution_count": 16,
   "id": "13eb8fde",
   "metadata": {},
   "outputs": [],
   "source": [
    "dataset_hindi = dataset_hindi.drop(columns='language',axis=1)"
   ]
  },
  {
   "cell_type": "code",
   "execution_count": 17,
   "id": "41ac8bd9",
   "metadata": {},
   "outputs": [],
   "source": [
    "dataset_hindi.reset_index(inplace = True)"
   ]
  },
  {
   "cell_type": "code",
   "execution_count": null,
   "id": "1a787e7c",
   "metadata": {},
   "outputs": [],
   "source": [
    "dataset_hindi = dataset_hindi.drop(columns='index',axis=1)"
   ]
  },
  {
   "cell_type": "code",
   "execution_count": null,
   "id": "4a9cc561",
   "metadata": {},
   "outputs": [],
   "source": [
    "dataset_hindi.head()"
   ]
  },
  {
   "cell_type": "markdown",
   "id": "873f6a5c",
   "metadata": {},
   "source": [
    "### Save Filtered Hindi Data to Specific Path "
   ]
  },
  {
   "cell_type": "code",
   "execution_count": null,
   "id": "79529da2",
   "metadata": {},
   "outputs": [],
   "source": [
    "######################################################\n",
    "# Enter path to save Hindi data in the CSV file\n",
    "######################################################\n",
    "save_separate_dataset_file_path = \"\"\n",
    "######################################################\n",
    "\n",
    "dataset_hindi.to_csv(save_separate_dataset_file_path)"
   ]
  },
  {
   "cell_type": "markdown",
   "id": "ea44191b",
   "metadata": {},
   "source": [
    "## Conversion Utils Functions"
   ]
  },
  {
   "cell_type": "code",
   "execution_count": 6,
   "id": "04139a2a",
   "metadata": {},
   "outputs": [],
   "source": [
    "def read_json(from_path: Path) -> dict:\n",
    "    with open(from_path, 'r', encoding='utf-8') as out_file:\n",
    "        return json.load(out_file)\n",
    "        \n",
    "def write_json(data: dict, out_path: Path) -> None:\n",
    "    with open(out_path, 'w', encoding='utf-8') as out_file:\n",
    "        json.dump(data, out_file, indent=2, sort_keys=True, ensure_ascii=False)"
   ]
  },
  {
   "cell_type": "code",
   "execution_count": 8,
   "id": "9eab8c2b",
   "metadata": {},
   "outputs": [],
   "source": [
    "def df_to_squad_format(path: Path, out_name: str, lang: Optional[str] = None) -> Path:\n",
    "    df = pd.read_csv(path)\n",
    "    if lang:\n",
    "        df = df.loc[df.language == lang].copy()\n",
    "        out_name = f'{out_name}_{lang}'\n",
    "    \n",
    "    data = []\n",
    "    for _, row in df.iterrows():\n",
    "        answers = {}\n",
    "        ans = []\n",
    "        try:\n",
    "            answers['answer_start'] = int(row['answer_start'])\n",
    "            answers['text'] = row['answer_text']\n",
    "            ans.append(answers)\n",
    "        except:\n",
    "            answers = {'answer_start': [-1], 'text': ['']}\n",
    "        data.append(\n",
    "            {\n",
    "            'qas':[{\n",
    "                'answers': ans,\n",
    "                'id': row['id'],\n",
    "                'question': row['question'],\n",
    "            }],\n",
    "            'context': row['context'],\n",
    "            'title': ''\n",
    "            }\n",
    "        )\n",
    "    \n",
    "    df_as_squad = {'data': data, 'version': out_name}\n",
    "    \n",
    "    out_path = f'./{out_name}.json'\n",
    "    write_json(df_as_squad, out_path)\n",
    "    print('The data has been converted to SQuAD format and saved as a JSON object.')\n",
    "    return out_path"
   ]
  },
  {
   "cell_type": "code",
   "execution_count": 10,
   "id": "3ea83c4f",
   "metadata": {},
   "outputs": [],
   "source": [
    "######################################################\n",
    "# Enter path to CSV file to change into SQuAD Format\n",
    "######################################################\n",
    "\n",
    "######################################################\n",
    "\n",
    "path_to_csv_to_squad = \"\"\n",
    "\n",
    "######################################################\n",
    "\n",
    "name_file_to_save_squad_file = \"\" # Do not use .json/.csv extensions\n",
    "\n",
    "######################################################"
   ]
  },
  {
   "cell_type": "code",
   "execution_count": null,
   "id": "e2ae17b1",
   "metadata": {},
   "outputs": [],
   "source": [
    "# convert chaii train df \n",
    "train_df_path = path_to_csv_to_squad\n",
    "chaii_train = df_to_squad_format(train_df_path, name_file_to_save_squad_file)\n",
    "\n",
    "#check\n",
    "read_json(chaii_train)['data'][0]"
   ]
  }
 ],
 "metadata": {
  "kernelspec": {
   "display_name": "Python 3",
   "language": "python",
   "name": "python3"
  },
  "language_info": {
   "codemirror_mode": {
    "name": "ipython",
    "version": 3
   },
   "file_extension": ".py",
   "mimetype": "text/x-python",
   "name": "python",
   "nbconvert_exporter": "python",
   "pygments_lexer": "ipython3",
   "version": "3.8.8"
  }
 },
 "nbformat": 4,
 "nbformat_minor": 5
}
